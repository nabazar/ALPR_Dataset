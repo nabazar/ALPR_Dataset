{
  "nbformat": 4,
  "nbformat_minor": 0,
  "metadata": {
    "colab": {
      "provenance": [],
      "authorship_tag": "ABX9TyMhh21xEO74QX87+Dz1N48f",
      "include_colab_link": true
    },
    "kernelspec": {
      "name": "python3",
      "display_name": "Python 3"
    },
    "language_info": {
      "name": "python"
    }
  },
  "cells": [
    {
      "cell_type": "markdown",
      "metadata": {
        "id": "view-in-github",
        "colab_type": "text"
      },
      "source": [
        "<a href=\"https://colab.research.google.com/github/nabazar/ALPR_Dataset/blob/main/PathPlanningRLv1.ipynb\" target=\"_parent\"><img src=\"https://colab.research.google.com/assets/colab-badge.svg\" alt=\"Open In Colab\"/></a>"
      ]
    },
    {
      "cell_type": "code",
      "execution_count": 77,
      "metadata": {
        "id": "qmAW_qg1goeT"
      },
      "outputs": [],
      "source": [
        "import pandas as pd\n",
        "from IPython.display import clear_output\n",
        "import numpy as np\n",
        "import matplotlib.pyplot as plt\n",
        "from google.colab.patches import cv2_imshow\n",
        "from PIL import Image as im\n",
        "from gym import spaces\n",
        "from numpy.matlib import repmat\n"
      ]
    },
    {
      "cell_type": "code",
      "source": [
        "class Agent():\n",
        "    def __init__(self, env):\n",
        "        self.env = env\n",
        "        self.epsilon = 0.7\n",
        "        self.alpha=0.5\n",
        "        self.gamma=0.85\n",
        "\n",
        "        self.Q_table=np.random.rand(env.num_states, 8)\n",
        "        # for i in range(0,env.num_states):\n",
        "        #   for j in range(0,8):\n",
        "        #     self.Q_table[i,j]=float(np.random.rand(1))\n",
        "\n",
        "\n",
        "    def updat_Q_value(self,st,nxtst,action,reward):\n",
        "\n",
        "      self.Q_table[st][action]=self.Q_table[st][action]+self.alpha*(reward+self.gamma*np.max(self.Q_table[nxtst])-self.Q_table[st][action])\n",
        "      # return self.Q_table\n",
        "\n",
        "    def get_action(self,st):\n",
        "        if np.random.random() < self.epsilon:\n",
        "            # exploit\n",
        "\n",
        "            ex=np.exp(self.Q_table[st])\n",
        "            py=ex/sum(ex)\n",
        "\n",
        "            return np.argmax(py)\n",
        "        else:\n",
        "            # explore\n",
        "            return np.random.randint(8)\n",
        "\n",
        "\n"
      ],
      "metadata": {
        "id": "ZSZKnrEoAzY-"
      },
      "execution_count": 78,
      "outputs": []
    },
    {
      "cell_type": "code",
      "source": [
        "# from pickle import TUPLE1\n",
        "class PathPlanningEnv():\n",
        "  def __init__(self,A):\n",
        "    self.A=A\n",
        "    self.xmax=600\n",
        "    self.xmin=0\n",
        "    self.ymax=600\n",
        "    self.ymin=0\n",
        "    self.nx=A.shape[0]\n",
        "    self.ny=A.shape[1]\n",
        "    dx=(self.xmax-self.xmin)/(2*self.nx)\n",
        "    dy=(self.ymax-self.ymin)/(2*self.ny)\n",
        "    self.D=np.sqrt(dx**2+dy**2)\n",
        "    # self.num_states = env.nx*env.ny*3\n",
        "    self.num_states = self.nx*self.ny\n",
        "    states=[]\n",
        "    # kk=-1\n",
        "    act=[(1,0),(1,1),(0,1),(-1,1),(-1,0),(-1,-1),(0,-1),(-1,1)]\n",
        "    actions=[]\n",
        "    for i in range(0,self.nx):\n",
        "      for j in range(0,self.ny):\n",
        "        # for k in range(0,3):\n",
        "          # kk=kk+1\n",
        "        states.append(tuple([i,j]))\n",
        "\n",
        "          # states.append(tuple([i,j,k]))\n",
        "        a=[]\n",
        "        for ii in range(0,8):\n",
        "          if act[ii][0]+i<self.nx and act[ii][1]+j<self.ny :\n",
        "            a.append(ii)\n",
        "\n",
        "        actions.append(tuple(a))\n",
        "    self.states=states\n",
        "    self.actions=actions\n",
        "\n",
        "    self.action_space = spaces.Discrete(8)\n",
        "    self.observation_space = spaces.Dict({\n",
        "            \"xr\": spaces.Box(low = 0, high = self.nx, shape=(self.nx,), dtype=int),\n",
        "            \"yr\": spaces.Box(low = 0, high = self.ny, shape=(self.ny,), dtype=int)})\n",
        "    # self.observation_space = spaces.Dict({\n",
        "    #         \"xr\": spaces.Box(low = 0, high = self.nx, shape=(self.nx,), dtype=int),\n",
        "    #         \"yr\": spaces.Box(low = 0, high = self.ny, shape=(self.ny,), dtype=int),\n",
        "    #         \"obs_situ\": spaces.Box(low = 0, high = 3, shape=(3,), dtype=int)})\n",
        "\n",
        "  def reset(self):\n",
        "    self.xr = np.random.randint(self.nx)\n",
        "    self.yr = np.random.randint(self.ny)\n",
        "    # self.obs_situ =np.random.randint(3)\n",
        "    while self.A.iloc[self.xr,self.yr]==0:\n",
        "      self.xr = np.random.randint(self.nx)\n",
        "      self.yr = np.random.randint(self.ny)\n",
        "    state=self.get_observation()\n",
        "\n",
        "    return state\n",
        "  def get_observation(self):\n",
        "\n",
        "    observation=(int(self.xr),int(self.yr))\n",
        "    # observation=(int(self.xr),int(self.yr),int(self.obs_situ))\n",
        "\n",
        "    return observation\n",
        "\n",
        "  def step(self,action):\n",
        "    next_state=self.get_observation()\n",
        "    if action==0:\n",
        "      self.xr=self.xr+1\n",
        "      self.yr=self.yr+1\n",
        "    elif action==1:\n",
        "      self.xr=self.xr+1\n",
        "      self.yr=self.yr+1\n",
        "    elif action==2:\n",
        "      self.xr=self.xr+1\n",
        "      self.yr=self.yr+1\n",
        "    elif action==3:\n",
        "      self.xr=self.xr-1\n",
        "      self.yr=self.yr+1\n",
        "    elif action==4:\n",
        "      self.xr=self.xr-1\n",
        "      self.yr=self.yr+0\n",
        "    elif action==5:\n",
        "      self.xr=self.xr-1\n",
        "      self.yr=self.yr-1\n",
        "    elif action==6:\n",
        "      self.xr=self.xr+0\n",
        "      self.yr=self.yr-1\n",
        "    elif action==7:\n",
        "      self.xr=self.xr+1\n",
        "      self.yr=self.yr-1\n",
        "    flag=0\n",
        "    done=0\n",
        "\n",
        "    if self.xr>=self.nx or self.yr>=self.ny:\n",
        "      flag=1\n",
        "      reward=-25\n",
        "    else:\n",
        "      if self.xr==self.goal[0] and self.yr==self.goal[1]:\n",
        "          reward=25\n",
        "          flag=1\n",
        "          done=1\n",
        "      elif self.A.iloc[self.xr,self.yr]==255:\n",
        "          reward=-10\n",
        "      else:\n",
        "          reward=-1\n",
        "\n",
        "      next_state=self.get_observation()\n",
        "\n",
        "    return next_state,reward,done,flag\n",
        "  def state2index(self,state):\n",
        "    if (state[0],state[1]) in self.states:\n",
        "      state_index = self.states.index((state[0],state[1]))\n",
        "\n",
        "    else:\n",
        "      state_index=[]\n",
        "\n",
        "    return state_index\n",
        "\n",
        "\n",
        "\n",
        "  def render(self):\n",
        "\n",
        "    fig=plt.figure(figsize=(3,3))\n",
        "    clear_output(wait=True)\n",
        "    plt.subplot(2,1,1)\n",
        "    plt.plot(env.start[1],env.start[0],'-or')\n",
        "    plt.plot(env.goal[1],env.goal[0],'-og')\n",
        "    xp=[]\n",
        "    yp=[]\n",
        "    for i in range(0, len(env.Path)):\n",
        "      xp.append(env.Path[i][0])\n",
        "      yp.append(env.Path[i][1])\n",
        "    plt.plot(yp,xp,'-b')\n",
        "    plt.plot(yp[0],xp[0],'-om')\n",
        "    plt.plot(yp[-1],xp[-1],'-oc')\n",
        "    plt.xlim([0,env.ny])\n",
        "    plt.ylim([0,env.nx])\n",
        "    plt.imshow(env.A)\n",
        "    plt.show()\n",
        "\n",
        "    plt.subplot(2, 1,2)\n",
        "    plt.plot(self.rewards,'-b')\n",
        "    clrs = ['red' if (x < 0) else 'green' for x in self.ep_reward]\n",
        "    x=np.linspace(0,len(self.ep_reward),len(self.ep_reward))\n",
        "    plt.bar(x, self.ep_reward, color=clrs)\n",
        "    plt.xlabel('Iterations')\n",
        "    plt.ylabel('Rewards')\n",
        "    plt.show()\n",
        "\n",
        "\n",
        "\n"
      ],
      "metadata": {
        "id": "tHf6Wxvoidm7"
      },
      "execution_count": 79,
      "outputs": []
    },
    {
      "cell_type": "code",
      "source": [
        "A = pd.read_csv('/content/Map20x20.csv')"
      ],
      "metadata": {
        "id": "rZ9ai3J1WyzW"
      },
      "execution_count": 80,
      "outputs": []
    },
    {
      "cell_type": "code",
      "source": [
        "env=PathPlanningEnv(A)"
      ],
      "metadata": {
        "id": "PS5bJ0CpjcH8",
        "colab": {
          "base_uri": "https://localhost:8080/"
        },
        "outputId": "14bd0d78-13d2-480d-90d8-7281ca539498"
      },
      "execution_count": 81,
      "outputs": [
        {
          "output_type": "stream",
          "name": "stderr",
          "text": [
            "/usr/local/lib/python3.10/dist-packages/ipykernel/ipkernel.py:283: DeprecationWarning: `should_run_async` will not call `transform_cell` automatically in the future. Please pass the result to `transformed_cell` argument and any exception that happen during thetransform in `preprocessing_exc_tuple` in IPython 7.17 and above.\n",
            "  and should_run_async(code)\n"
          ]
        }
      ]
    },
    {
      "cell_type": "code",
      "source": [
        "agent=Agent(env)"
      ],
      "metadata": {
        "id": "IpvMUH5g6yeP"
      },
      "execution_count": 82,
      "outputs": []
    },
    {
      "cell_type": "code",
      "source": [
        "max_episode=200000\n",
        "episode=0\n",
        "env.goal= [int(3),int(4)]\n",
        "env.A.iloc[env.goal[0],env.goal[1]]=100\n",
        "env.ep_reward=[]\n",
        "env.rewards=[]\n",
        "while episode<=max_episode:\n",
        "  # A0=env.A\n",
        "  state=env.reset()\n",
        "  env.state=state\n",
        "  flag=0\n",
        "  max_stp=50\n",
        "  stp=0\n",
        "\n",
        "  step_reward=[]\n",
        "  env.start=[state[0],state[1]]\n",
        "\n",
        "  Path=[]\n",
        "  while flag==0 and stp<=max_stp:\n",
        "    env.xr=int(state[0])\n",
        "    env.yr=int(state[1])\n",
        "    Path.append((env.xr,env.yr))\n",
        "\n",
        "    # env.obs_situ=state[2]\n",
        "    env.state=state\n",
        "    st=env.state2index(state)\n",
        "    action=agent.get_action(st)\n",
        "    if action in env.actions[st] :\n",
        "\n",
        "      next_state,reward,done,flag=env.step(action)\n",
        "    else:\n",
        "      next_state,reward,done,flag=state,-25,0,1\n",
        "    nxtst=env.state2index(next_state)\n",
        "    if nxtst !=[]:\n",
        "      agent.updat_Q_value(st,nxtst,action,reward)\n",
        "    else:\n",
        "     flag=1\n",
        "    state=next_state\n",
        "    Path.append((env.xr,env.yr))\n",
        "    env.Path=Path\n",
        "\n",
        "\n",
        "    stp=stp+1\n",
        "    step_reward.append(reward)\n",
        "  env.ep_reward.append(np.mean(step_reward))\n",
        "  env.rewards.append(np.mean(env.ep_reward))\n",
        "  if episode%1000==0:\n",
        "    env.render()\n",
        "\n",
        "  episode=episode+1\n",
        "\n"
      ],
      "metadata": {
        "id": "378hQOh7Jbkq",
        "colab": {
          "base_uri": "https://localhost:8080/",
          "height": 166
        },
        "outputId": "27a41faf-efc4-43aa-8306-4b48f9a257c0"
      },
      "execution_count": null,
      "outputs": [
        {
          "output_type": "display_data",
          "data": {
            "text/plain": [
              "<Figure size 300x300 with 1 Axes>"
            ],
            "image/png": "[encoded data removed]"
          },
          "metadata": {}
        }
      ]
    }
  ]
}